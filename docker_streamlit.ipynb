{
 "cells": [
  {
   "cell_type": "markdown",
   "metadata": {
    "slideshow": {
     "slide_type": "slide"
    }
   },
   "source": [
    "# Creating an app\n",
    "\n",
    "# in 5 (not so simple) steps "
   ]
  },
  {
   "cell_type": "markdown",
   "metadata": {
    "slideshow": {
     "slide_type": "fragment"
    }
   },
   "source": [
    "\n",
    "1. Setting up our **Repo** 😺\n",
    "2. Creating a Dummy **App** 💩\n",
    "3. Backend: setting an **API** 🤖\n",
    "4. Deploying our Backend as a **Container** 📦\n",
    "5. Frontend: **Streamlit** 🪄\n"
   ]
  },
  {
   "cell_type": "markdown",
   "metadata": {
    "slideshow": {
     "slide_type": "slide"
    }
   },
   "source": [
    "## 1. Setting up our Repo 😺"
   ]
  },
  {
   "cell_type": "markdown",
   "metadata": {
    "slideshow": {
     "slide_type": "subslide"
    }
   },
   "source": [
    "In our the terminal, we create a folder for the new Repo"
   ]
  },
  {
   "cell_type": "code",
   "execution_count": 1,
   "metadata": {
    "slideshow": {
     "slide_type": "fragment"
    }
   },
   "outputs": [],
   "source": [
    "mkdir dummyproject"
   ]
  },
  {
   "cell_type": "markdown",
   "metadata": {
    "slideshow": {
     "slide_type": "fragment"
    }
   },
   "source": [
    "Move inside the new project folder and initialize Git"
   ]
  },
  {
   "cell_type": "code",
   "execution_count": null,
   "metadata": {
    "slideshow": {
     "slide_type": "fragment"
    }
   },
   "outputs": [],
   "source": [
    "cd dummyproject\n",
    "git init"
   ]
  },
  {
   "cell_type": "markdown",
   "metadata": {
    "slideshow": {
     "slide_type": "fragment"
    }
   },
   "source": [
    "If you see `(main)` appearing after your working directory, we are good for the next step.\n",
    "\n",
    "in case your branch is named (master) you can run this command"
   ]
  },
  {
   "cell_type": "code",
   "execution_count": null,
   "metadata": {
    "slideshow": {
     "slide_type": "fragment"
    }
   },
   "outputs": [],
   "source": [
    "rm -f -r .git #deletes git repo\n",
    "git config --global init.defaultBranch main #sets main as default"
   ]
  },
  {
   "cell_type": "markdown",
   "metadata": {
    "slideshow": {
     "slide_type": "subslide"
    }
   },
   "source": [
    "we create a repo using github cli, from our terminal"
   ]
  },
  {
   "cell_type": "code",
   "execution_count": null,
   "metadata": {
    "slideshow": {
     "slide_type": "fragment"
    }
   },
   "outputs": [],
   "source": [
    "gh repo create dummyapp --public"
   ]
  },
  {
   "cell_type": "markdown",
   "metadata": {
    "slideshow": {
     "slide_type": "fragment"
    }
   },
   "source": [
    "\n",
    "Now our new repository is connected to github 🎉\n",
    "\n",
    "guidelines for choosing a repo name:\n",
    "  - use lowercase\n",
    "  - avoid underscores `_`\n",
    "  - do not use hyphenes `-`\n",
    "  - be short but meaningful\n"
   ]
  },
  {
   "cell_type": "markdown",
   "metadata": {
    "slideshow": {
     "slide_type": "slide"
    }
   },
   "source": [
    "## 2. Creating a Dummy **App** 💩"
   ]
  },
  {
   "cell_type": "markdown",
   "metadata": {
    "slideshow": {
     "slide_type": "subslide"
    }
   },
   "source": [
    "### The files we need for our bare minimun architecture 🩻"
   ]
  },
  {
   "cell_type": "markdown",
   "metadata": {
    "slideshow": {
     "slide_type": "fragment"
    }
   },
   "source": [
    "`setup.py`\n",
    "Here we specify our package name and all dependecies (requirements.txt)\n",
    "this is necesary to be able to install our package with `pip install .`"
   ]
  },
  {
   "cell_type": "code",
   "execution_count": null,
   "metadata": {
    "slideshow": {
     "slide_type": "fragment"
    }
   },
   "outputs": [],
   "source": [
    "from setuptools import find_packages\n",
    "from setuptools import setup\n",
    "\n",
    "with open(\"requirements.txt\") as f:\n",
    "    content = f.readlines()\n",
    "requirements = [x.strip() for x in content if \"git+\" not in x]\n",
    "\n",
    "setup(name='dummyapp',\n",
    "      description=\"example dummy package\",\n",
    "      license=\"MIT\",\n",
    "      author=\"me\",\n",
    "      install_requires=requirements,\n",
    "      packages=find_packages(),\n",
    "      include_package_data=True,\n",
    "      zip_safe=False)"
   ]
  },
  {
   "cell_type": "markdown",
   "metadata": {
    "slideshow": {
     "slide_type": "subslide"
    }
   },
   "source": [
    "`requirements.txt`\n",
    "is the file that is going to serve all the python libraries that we are going to need to run our package\n",
    "for this example we are going to only two"
   ]
  },
  {
   "cell_type": "code",
   "execution_count": null,
   "metadata": {
    "slideshow": {
     "slide_type": "fragment"
    }
   },
   "outputs": [],
   "source": [
    "fastapi\n",
    "uvicorn"
   ]
  },
  {
   "cell_type": "markdown",
   "metadata": {
    "slideshow": {
     "slide_type": "subslide"
    }
   },
   "source": [
    "`.env`\n",
    "this file contains enviroment variables that are used across the app, but also contains sensible data that needs to be protected like passwords and apikeys, this file is never going to be push to github. "
   ]
  },
  {
   "cell_type": "code",
   "execution_count": null,
   "metadata": {
    "slideshow": {
     "slide_type": "fragment"
    }
   },
   "outputs": [],
   "source": [
    "#example\n",
    "GCP_REGION=europe-west1\n",
    "GAR_REPO=dummyproject\n",
    "PORT=8000"
   ]
  },
  {
   "cell_type": "markdown",
   "metadata": {
    "slideshow": {
     "slide_type": "subslide"
    }
   },
   "source": [
    "`.gitignore`\n",
    "we need this file before committing to github, it is the one that will prevent us from pushing any unnecessary file, for example: our precious `.env` file, too big files, or cache files."
   ]
  },
  {
   "cell_type": "code",
   "execution_count": null,
   "metadata": {
    "slideshow": {
     "slide_type": "fragment"
    }
   },
   "outputs": [],
   "source": [
    ".env\n",
    ".env.yaml\n",
    "\n",
    "# OS generated files #\n",
    ".DS_Store\n",
    "__MACOSX\n",
    "# Jupiter Notebook #\n",
    ".pytest_cache\n",
    "__pycache__\n",
    "*checkpoint.ipynb\n",
    "*.ipynb_checkpoints\n",
    "\n",
    "# inteliJ #\n",
    ".idea\n",
    "*.gz\n",
    "*PKG-INFO\n",
    "*.egg-info\n",
    "*.csv\n",
    "*.zip\n",
    "# IDE #\n",
    "*.vscode"
   ]
  },
  {
   "cell_type": "markdown",
   "metadata": {
    "slideshow": {
     "slide_type": "subslide"
    }
   },
   "source": [
    "Finally we need to create the python files and folders.\n",
    "Let's divide our code into backend and frontend."
   ]
  },
  {
   "cell_type": "markdown",
   "metadata": {
    "slideshow": {
     "slide_type": "fragment"
    }
   },
   "source": [
    "```\n",
    "├── 📂 dummyapp\n",
    "│   └── 🐍 api.py\n",
    "├── 📂 frontend\n",
    "│   └── 🐍 streamlit-app.py\n",
    "├── .env\n",
    "├── .gitignore\n",
    "├── 📄 requirements.txt\n",
    "└── 🐍 setup.py\n",
    "```"
   ]
  },
  {
   "cell_type": "markdown",
   "metadata": {
    "slideshow": {
     "slide_type": "fragment"
    }
   },
   "source": [
    "There are other secondary files such as\n",
    "`.python-version` this file is created when we configure our virtual environment.\n",
    "`Makefile` this file is used to simplify our terminal commands (it is a great hack!)."
   ]
  },
  {
   "cell_type": "markdown",
   "metadata": {
    "slideshow": {
     "slide_type": "subslide"
    }
   },
   "source": [
    "Our last step, we configure the vitual environment"
   ]
  },
  {
   "cell_type": "code",
   "execution_count": null,
   "metadata": {
    "slideshow": {
     "slide_type": "fragment"
    }
   },
   "outputs": [],
   "source": [
    "pyenv virtualenv 3.10.6 dummyproject-env\n",
    "pyenv local dummyproject-env"
   ]
  },
  {
   "cell_type": "markdown",
   "metadata": {
    "slideshow": {
     "slide_type": "fragment"
    }
   },
   "source": [
    "And finally you have to install our package! 🎉\n",
    "we need this command to let python know the relationship between our files.\n",
    "\n",
    "`pip install -e . `\n",
    "\n",
    "`e` means developer mode, all changes take effect without reinstalling the package.\n",
    "`.` means, we are referring to our current path."
   ]
  },
  {
   "cell_type": "markdown",
   "metadata": {
    "slideshow": {
     "slide_type": "subslide"
    }
   },
   "source": [
    "We are ready now for our first push to github"
   ]
  },
  {
   "cell_type": "code",
   "execution_count": null,
   "metadata": {
    "slideshow": {
     "slide_type": "fragment"
    }
   },
   "outputs": [],
   "source": [
    "git add .\n",
    "git commit -m \"Initial commit\"\n",
    "git push origin main"
   ]
  },
  {
   "cell_type": "markdown",
   "metadata": {
    "slideshow": {
     "slide_type": "slide"
    }
   },
   "source": [
    "## 3. Backend: setting an **API** 🤖"
   ]
  },
  {
   "cell_type": "markdown",
   "metadata": {
    "slideshow": {
     "slide_type": "subslide"
    }
   },
   "source": [
    "We are going to code a really simple python script...\n",
    "### let's get creative ✨"
   ]
  },
  {
   "cell_type": "markdown",
   "metadata": {
    "slideshow": {
     "slide_type": "fragment"
    }
   },
   "source": [
    "we just need to remember the basic structure of a python file\n",
    "\n",
    "- imports\n",
    "  - import request\n",
    "  - import os\n",
    "- main or body\n",
    "  - our code with our class or functions\n",
    "- entry point\n",
    "  - signalized by `if __name__ == \"__main__\":` "
   ]
  },
  {
   "cell_type": "markdown",
   "metadata": {
    "slideshow": {
     "slide_type": "subslide"
    }
   },
   "source": [
    "When we are sure that our functions are working locally, we can set up our API\n",
    "\n",
    "**fastApi to the rescue!**"
   ]
  },
  {
   "cell_type": "code",
   "execution_count": null,
   "metadata": {
    "slideshow": {
     "slide_type": "fragment"
    }
   },
   "outputs": [],
   "source": [
    "from fastapi import FastAPI\n",
    "\n",
    "api = FastAPI()\n",
    "\n",
    "# Define a root `/` endpoint\n",
    "@api.get('/')\n",
    "def index():\n",
    "    return {'status': 'online'}"
   ]
  },
  {
   "cell_type": "markdown",
   "metadata": {
    "slideshow": {
     "slide_type": "subslide"
    }
   },
   "source": [
    "for executing this code, we just need to launch our server with uvicorn"
   ]
  },
  {
   "cell_type": "code",
   "execution_count": null,
   "metadata": {
    "slideshow": {
     "slide_type": "fragment"
    }
   },
   "outputs": [],
   "source": [
    "uvicorn dummyapp.backend.api:api --reload"
   ]
  },
  {
   "cell_type": "markdown",
   "metadata": {
    "slideshow": {
     "slide_type": "fragment"
    }
   },
   "source": [
    "Is this command too long to remember but you know you will be using it every time you need to execute your api?\n",
    "\n",
    "**Makefile to the rescue!**\n",
    "This way we don't need to remember the entire sintax"
   ]
  },
  {
   "cell_type": "code",
   "execution_count": null,
   "metadata": {
    "slideshow": {
     "slide_type": "fragment"
    }
   },
   "outputs": [],
   "source": [
    "touch Makefile\n",
    "\n",
    "# Makefile content\n",
    "install:\n",
    "    pip install -e .\n",
    "\n",
    "run_api:\n",
    "    uvicorn dummyapp.backend.api:api --reload"
   ]
  },
  {
   "cell_type": "markdown",
   "metadata": {
    "slideshow": {
     "slide_type": "slide"
    }
   },
   "source": [
    "## 4. Deploying our Backend as a **Container** 📦\n",
    "\n",
    "### Time for DOCKER! 🐳"
   ]
  },
  {
   "cell_type": "markdown",
   "metadata": {
    "slideshow": {
     "slide_type": "subslide"
    }
   },
   "source": [
    "First step is to create a `Dockerfile`\n",
    "it contains the instructions for building our image"
   ]
  },
  {
   "cell_type": "code",
   "execution_count": null,
   "metadata": {
    "slideshow": {
     "slide_type": "fragment"
    }
   },
   "outputs": [],
   "source": [
    "FROM python:3.8.12-buster # base image\n",
    "\n",
    "WORKDIR /dummyproject # set working directory, create if not exists\n",
    "\n",
    "COPY requirements.txt requirements.txt # copy requirements file to working directory\n",
    "RUN pip install -r requirements.txt # install requirements\n",
    "\n",
    "COPY backend backend # copy backend directory to working directory\n",
    "COPY setup.py setup.py # copy setup file to working directory\n",
    "RUN pip install . # install package\n",
    "\n",
    "CMD uvicorn dummyapp.backend.api:api --host 0.0.0.0 --port $PORT # run the API"
   ]
  },
  {
   "cell_type": "markdown",
   "metadata": {
    "slideshow": {
     "slide_type": "subslide"
    }
   },
   "source": [
    "We need then to execute quite some commands in the terminal\n",
    "why we don't use our make file then? 😎\n",
    "\n",
    "[docker visualized](https://docs.google.com/presentation/d/1IrYWAfcgdYL29petZOd_xJKql8U3ylenLRjZXFAOC5Q/edit?usp=sharing)"
   ]
  },
  {
   "cell_type": "code",
   "execution_count": null,
   "metadata": {
    "slideshow": {
     "slide_type": "fragment"
    }
   },
   "outputs": [],
   "source": [
    "############### build and run locally ####################3\n",
    "build-local:\n",
    "\tdocker build -t dummyapp:dev .\n",
    "\n",
    "run-local:\n",
    "\tdocker run -p 8000:8000 --env-file .env dummyapp:dev\n",
    "\n",
    "run-interactive:\n",
    "\tdocker run -it -p 8000:8000 --env-file .env dummyapp:dev sh"
   ]
  },
  {
   "cell_type": "markdown",
   "metadata": {
    "slideshow": {
     "slide_type": "fragment"
    }
   },
   "source": [
    "We now tested that our code is running perfectly inside a container.\n",
    "It's time to **deploy to the cloud** "
   ]
  },
  {
   "cell_type": "code",
   "execution_count": null,
   "metadata": {
    "slideshow": {
     "slide_type": "subslide"
    }
   },
   "outputs": [],
   "source": [
    "############## register and authorize Gcloud Artifact Registry ############3\n",
    "gcloud-auth:\n",
    "\tgcloud auth configure-docker ${GCP_REGION}-docker.pkg.dev\n",
    "\n",
    "gcloud-register-artifact:\n",
    "\tgcloud artifacts repositories create ${GAR_REPO} --repository-format=docker \\\n",
    "\t--location=${GCP_REGION} --description=\"Repository for storing dummyapp images\"\n",
    "\n",
    "############# building and pushing to Gcloud Artifact Registry ############3\n",
    "build-gcloud:\n",
    "\tdocker build -t ${GCP_REGION}-docker.pkg.dev/${GCP_PROJECT}/${GAR_REPO}/${GAR_IMAGE}:prod .\n",
    "\n",
    "build-test-gcloud:\n",
    "\tdocker run -p 8000:8000 --env-file .env ${GCP_REGION}-docker.pkg.dev/${GCP_PROJECT}/${GAR_REPO}/${GAR_IMAGE}:prod\n",
    "\n",
    "push:\n",
    "\tdocker push ${GCP_REGION}-docker.pkg.dev/${GCP_PROJECT}/${GAR_REPO}/${GAR_IMAGE}:prod\n",
    "\n",
    "############# deploy to Google cloud Run #################################3\n",
    "deploy:\n",
    "\tgcloud run deploy --image ${GCP_REGION}-docker.pkg.dev/${GCP_PROJECT}/${GAR_REPO}/${GAR_IMAGE}:prod \\\n",
    "\t--memory ${GAR_MEMORY} --region ${GCP_REGION} --env-vars-file .env.yaml --allow-unauthenticated\n",
    "\n",
    "############ manage Google Cloud Run #####################################3\n",
    "status:\n",
    "\tgcloud run services list\n",
    "\n",
    "stop-gcloud:\n",
    "\tgcloud run services delete ${GAR_IMAGE}"
   ]
  },
  {
   "cell_type": "markdown",
   "metadata": {
    "slideshow": {
     "slide_type": "subslide"
    }
   },
   "source": [
    "# 🤯\n",
    "\n",
    "right?\n",
    "\n",
    "don't worry is all in the Makefile"
   ]
  },
  {
   "cell_type": "markdown",
   "metadata": {
    "slideshow": {
     "slide_type": "subslide"
    }
   },
   "source": [
    "Now our app is online and serving traffic, \n",
    "you should be able to see a public url in your terminal.\n",
    "\n",
    "It's possible that you need to authorize traffic first, this we need to set up in Google Cloud Run\n",
    "\n",
    "Remember:\n",
    "- GCP stands for Google Cloud Platform\n",
    "- GAR stands for Google Artifact Repository"
   ]
  },
  {
   "cell_type": "markdown",
   "metadata": {
    "slideshow": {
     "slide_type": "slide"
    }
   },
   "source": [
    "# 5. Frontend: **Streamlit** 🪄"
   ]
  },
  {
   "cell_type": "markdown",
   "metadata": {
    "slideshow": {
     "slide_type": "subslide"
    }
   },
   "source": [
    "The logic of streamlit is similar to a print"
   ]
  },
  {
   "cell_type": "code",
   "execution_count": null,
   "metadata": {
    "slideshow": {
     "slide_type": "fragment"
    }
   },
   "outputs": [],
   "source": [
    "import streamlit as st\n",
    "\n",
    "sometext = 'Hello World'\n",
    "\n",
    "st.write(sometext) # this is shown in the webpage\n",
    "print(sometext) # this is shown in the terminal\n"
   ]
  },
  {
   "cell_type": "markdown",
   "metadata": {
    "slideshow": {
     "slide_type": "fragment"
    }
   },
   "source": [
    "Let's keep experimenting on our dummyapp 🤗"
   ]
  },
  {
   "cell_type": "markdown",
   "metadata": {
    "slideshow": {
     "slide_type": "fragment"
    }
   },
   "source": [
    "Don't Forget to check this amazing resource to play and experiment with streamlit\n",
    "# [streamlit le wagon resource](https://streamlit.lewagon.ai)"
   ]
  },
  {
   "cell_type": "markdown",
   "metadata": {
    "slideshow": {
     "slide_type": "subslide"
    }
   },
   "source": [
    "```\n",
    "import streamlit as st\n",
    "st.write('Enjoy today's challenges! 🤗')\n",
    "\n",
    "streamlit run thank.you!\n",
    "```\n"
   ]
  },
  {
   "cell_type": "markdown",
   "metadata": {},
   "source": []
  }
 ],
 "metadata": {
  "kernelspec": {
   "display_name": "lewagon",
   "language": "python",
   "name": "python3"
  },
  "language_info": {
   "codemirror_mode": {
    "name": "ipython",
    "version": 3
   },
   "file_extension": ".py",
   "mimetype": "text/x-python",
   "name": "python",
   "nbconvert_exporter": "python",
   "pygments_lexer": "ipython3",
   "version": "3.10.6"
  }
 },
 "nbformat": 4,
 "nbformat_minor": 2
}
