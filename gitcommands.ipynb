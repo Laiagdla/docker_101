{
 "cells": [
  {
   "cell_type": "code",
   "execution_count": 1,
   "metadata": {},
   "outputs": [
    {
     "name": "stdout",
     "output_type": "stream",
     "text": [
      "docker_101.ipynb\n"
     ]
    }
   ],
   "source": [
    "!ls"
   ]
  },
  {
   "cell_type": "code",
   "execution_count": 2,
   "metadata": {},
   "outputs": [
    {
     "name": "stdout",
     "output_type": "stream",
     "text": [
      ".  ..  docker_101.ipynb  .git\n"
     ]
    }
   ],
   "source": [
    "!ls -a"
   ]
  },
  {
   "cell_type": "code",
   "execution_count": 7,
   "metadata": {},
   "outputs": [],
   "source": [
    "!git remote -v"
   ]
  },
  {
   "cell_type": "code",
   "execution_count": 5,
   "metadata": {},
   "outputs": [],
   "source": [
    "!git remote remove origin"
   ]
  },
  {
   "cell_type": "code",
   "execution_count": 6,
   "metadata": {},
   "outputs": [
    {
     "name": "stdout",
     "output_type": "stream",
     "text": [
      ".  ..  docker_101.ipynb  .git\n"
     ]
    }
   ],
   "source": [
    "!ls -a"
   ]
  },
  {
   "cell_type": "code",
   "execution_count": 8,
   "metadata": {},
   "outputs": [
    {
     "name": "stdout",
     "output_type": "stream",
     "text": [
      "\n",
      "Showing 23 of 23 repositories in @Laiagdla\n",
      "\n",
      "\u001b[0;1;39mLaiagdla/docker_101               \u001b[0m                   \u001b[0;90mpublic       \u001b[0m  \u001b[0;90m7m\u001b[0m\n",
      "\u001b[0;1;39mLaiagdla/data-engineering-zoomcamp\u001b[0m  Free Data En...  \u001b[0;90mpublic, fork \u001b[0m  \u001b[0;90m16d\u001b[0m\n",
      "\u001b[0;1;39mLaiagdla/wippercloud              \u001b[0m  personal hom...  \u001b[0;33mprivate      \u001b[0m  \u001b[0;90mDec 25, 2023\u001b[0m\n",
      "\u001b[0;1;39mLaiagdla/openstreetmap-api        \u001b[0m  docker image...  \u001b[0;90mpublic       \u001b[0m  \u001b[0;90mDec  6, 2023\u001b[0m\n",
      "\u001b[0;1;39mLaiagdla/taxifare-frontend        \u001b[0m                   \u001b[0;90mpublic       \u001b[0m  \u001b[0;90mNov 24, 2023\u001b[0m\n",
      "\u001b[0;1;39mLaiagdla/awesome-generative-ai    \u001b[0m  A curated li...  \u001b[0;90mpublic, fork \u001b[0m  \u001b[0;90mOct 10, 2023\u001b[0m\n",
      "\u001b[0;1;39mLaiagdla/SilentRave               \u001b[0m  A simple app...  \u001b[0;90mpublic       \u001b[0m  \u001b[0;90mSep 25, 2023\u001b[0m\n",
      "\u001b[0;1;39mLaiagdla/notebooks_git            \u001b[0m  notebooks_git    \u001b[0;33mprivate      \u001b[0m  \u001b[0;90mAug 28, 2023\u001b[0m\n",
      "\u001b[0;1;39mLaiagdla/dotfiles                 \u001b[0m  Default conf...  \u001b[0;90mpublic, fork \u001b[0m  \u001b[0;90mAug  6, 2023\u001b[0m\n",
      "\u001b[0;1;39mLaiagdla/stablediffusion          \u001b[0m                   \u001b[0;90mpublic       \u001b[0m  \u001b[0;90mJul 10, 2023\u001b[0m\n",
      "\u001b[0;1;39mLaiagdla/data-train-in-the-cloud  \u001b[0m                   \u001b[0;33mprivate      \u001b[0m  \u001b[0;90mMay 30, 2023\u001b[0m\n",
      "\u001b[0;1;39mLaiagdla/fullstack-challenges     \u001b[0m  🚀 Exercises...  \u001b[0;33mprivate, fork\u001b[0m  \u001b[0;90mApr 22, 2023\u001b[0m\n",
      "\u001b[0;1;39mLaiagdla/rails-watch-list         \u001b[0m                   \u001b[0;90mpublic       \u001b[0m  \u001b[0;90mApr 22, 2023\u001b[0m\n",
      "\u001b[0;1;39mLaiagdla/rails-yelp-mvp           \u001b[0m                   \u001b[0;90mpublic       \u001b[0m  \u001b[0;90mApr 20, 2023\u001b[0m\n",
      "\u001b[0;1;39mLaiagdla/rails-task-manager       \u001b[0m                   \u001b[0;90mpublic       \u001b[0m  \u001b[0;90mApr 19, 2023\u001b[0m\n",
      "\u001b[0;1;39mLaiagdla/rails-stupid-coaching    \u001b[0m                   \u001b[0;90mpublic       \u001b[0m  \u001b[0;90mApr 15, 2023\u001b[0m\n",
      "\u001b[0;1;39mLaiagdla/data-challenges          \u001b[0m                   \u001b[0;33mprivate, fork\u001b[0m  \u001b[0;90mDec  2, 2022\u001b[0m\n",
      "\u001b[0;1;39mLaiagdla/communitylibrary         \u001b[0m                   \u001b[0;33mprivate      \u001b[0m  \u001b[0;90mNov 14, 2022\u001b[0m\n",
      "\u001b[0;1;39mLaiagdla/osmnx-examples           \u001b[0m  Usage exampl...  \u001b[0;90mpublic, fork \u001b[0m  \u001b[0;90mNov 13, 2022\u001b[0m\n",
      "\u001b[0;1;39mLaiagdla/olist_full_sql           \u001b[0m  This reposit...  \u001b[0;90mpublic, fork \u001b[0m  \u001b[0;90mNov  7, 2022\u001b[0m\n",
      "\u001b[0;1;39mLaiagdla/TaxiFareModel            \u001b[0m  Taxi Fare mo...  \u001b[0;90mpublic       \u001b[0m  \u001b[0;90mMay 26, 2022\u001b[0m\n",
      "\u001b[0;1;39mLaiagdla/geotool_test             \u001b[0m  testing pyth...  \u001b[0;90mpublic       \u001b[0m  \u001b[0;90mMay 23, 2022\u001b[0m\n",
      "\u001b[0;1;39mLaiagdla/hydra                    \u001b[0m  Hydra is a w...  \u001b[0;90mpublic, fork \u001b[0m  \u001b[0;90mApr  2, 2019\u001b[0m\n"
     ]
    }
   ],
   "source": [
    "!gh repo list"
   ]
  },
  {
   "cell_type": "code",
   "execution_count": 9,
   "metadata": {},
   "outputs": [
    {
     "name": "stdout",
     "output_type": "stream",
     "text": [
      "\u001b]11;?\u001b\\\u001b[6n\u001b[0;1;39mLaiagdla/docker_101\u001b[0m\n",
      "\u001b[0;90mNo description provided\u001b[0m\n",
      "\n",
      "\u001b[0;90mThis repository does not have a README\u001b[0m\n",
      "\n",
      "\u001b[0;90mView this repository on GitHub: https://github.com/Laiagdla/docker_101\u001b[0m\n"
     ]
    }
   ],
   "source": [
    "!gh repo view Laiagdla/docker_101"
   ]
  },
  {
   "cell_type": "code",
   "execution_count": 10,
   "metadata": {},
   "outputs": [],
   "source": [
    "!git remote add origin \"https://github.com/Laiagdla/docker_101\""
   ]
  },
  {
   "cell_type": "code",
   "execution_count": 11,
   "metadata": {},
   "outputs": [
    {
     "name": "stdout",
     "output_type": "stream",
     "text": [
      "origin\thttps://github.com/Laiagdla/docker_101 (fetch)\n",
      "origin\thttps://github.com/Laiagdla/docker_101 (push)\n"
     ]
    }
   ],
   "source": [
    "!git remote -v"
   ]
  },
  {
   "cell_type": "code",
   "execution_count": null,
   "metadata": {},
   "outputs": [],
   "source": []
  }
 ],
 "metadata": {
  "kernelspec": {
   "display_name": "lewagon",
   "language": "python",
   "name": "python3"
  },
  "language_info": {
   "codemirror_mode": {
    "name": "ipython",
    "version": 3
   },
   "file_extension": ".py",
   "mimetype": "text/x-python",
   "name": "python",
   "nbconvert_exporter": "python",
   "pygments_lexer": "ipython3",
   "version": "3.10.6"
  }
 },
 "nbformat": 4,
 "nbformat_minor": 2
}
